{
 "cells": [
  {
   "cell_type": "code",
   "execution_count": 1,
   "id": "39c85676",
   "metadata": {},
   "outputs": [],
   "source": [
    "import numpy as np"
   ]
  },
  {
   "cell_type": "code",
   "execution_count": 29,
   "id": "7b7687d2",
   "metadata": {},
   "outputs": [],
   "source": [
    "def crypto(txt):\n",
    "    print(\"Текст: \", txt)\n",
    "    # Зададим массив для открытого текста в 16й системе счисления\n",
    "    txt_arr=[]\n",
    "    for i in txt:\n",
    "        txt_arr.append(i.encode(\"cp1251\").hex())\n",
    "    print(\"\\n Открытый текст в 16-м коде: \", *txt_arr)\n",
    "    \n",
    "    # Зададим случайно сгенерированный ключ в 16й системе счисления:\n",
    "    keyDec = np.random.randint(0, 255, len(txt))\n",
    "    keyHex = [hex(i)[2:] for i in keyDec]\n",
    "    print(\"\\nКлюч в 16й системе: \", *keyHex)\n",
    "    \n",
    "    #Зададим зашифрованный текст в 16й системе счисления: \n",
    "    crypTxt = []\n",
    "    for i in range(len(txt_arr)):\n",
    "        crypTxt.append(\"{:02x}\".format(int(txt_arr[i], 16) ^ int(keyHex[i], 16)))\n",
    "    print(\"\\nЗашифрованный текст в шестндцатеричном представлении: \", *crypTxt)\n",
    "        \n",
    "    res = bytearray.fromhex(\"\".join(crypTxt)).decode(\"cp1251\") \n",
    "    print(\"\\nЗашифрованный текст: \", res)\n",
    "    \n",
    "    return keyHex, res"
   ]
  },
  {
   "cell_type": "code",
   "execution_count": 48,
   "id": "7f5d58e6",
   "metadata": {},
   "outputs": [],
   "source": [
    "def decrypto(txt, res):\n",
    "    print(\"Текст: \", txt)\n",
    "    print(\"\\nЗашифрованный текст: \", res)\n",
    "    \n",
    "    # Зададим массив из символов открытого текста в 16й системе:\n",
    "    txtHex = []\n",
    "    for i in txt:\n",
    "        txtHex.append(i.encode(\"cp1251\").hex())\n",
    "    print(\"\\nОткрый текст в 16 системе: \", *txtHex)\n",
    "    \n",
    "    # Массив из символов зашифрованного текста в 16й системек:\n",
    "    resHex = []\n",
    "    for i in res:\n",
    "        resHex.append(i.encode(\"cp1251\").hex())\n",
    "    print(\"\\n Зашифрованный текст в 16й системе: \", *resHex)\n",
    "    \n",
    "    # Поиск ключа:\n",
    "    key = [hex(int(i, 16) ^ int(j, 16))[2:] for (i, j) in zip(txtHex, resHex)]\n",
    "    print(\"\\nКлюч в 16й системе: \", *key)\n",
    "    return key"
   ]
  },
  {
   "cell_type": "code",
   "execution_count": 49,
   "id": "e483141c",
   "metadata": {},
   "outputs": [
    {
     "name": "stdout",
     "output_type": "stream",
     "text": [
      "Текст:  Штирлиц – Вы Герой!!\n",
      "\n",
      " Открытый текст в 16-м коде:  d8 f2 e8 f0 eb e8 f6 20 96 20 c2 fb 20 c3 e5 f0 ee e9 21 21\n",
      "\n",
      "Ключ в 16й системе:  5a 16 f9 1d d0 27 75 a1 5f ca 5e 15 76 62 d 1f be a1 ad 6e\n",
      "\n",
      "Зашифрованный текст в шестндцатеричном представлении:  82 e4 11 ed 3b cf 83 81 c9 ea 9c ee 56 a1 e8 ef 50 48 8c 4f\n",
      "\n",
      "Зашифрованный текст:  ‚д\u0011н;ПѓЃЙкњоVЎипPHЊO\n"
     ]
    }
   ],
   "source": [
    "# Проверка\n",
    "message=\"Штирлиц – Вы Герой!!\"\n",
    "criprKey,crypTxt=crypto(message)\n"
   ]
  },
  {
   "cell_type": "code",
   "execution_count": 50,
   "id": "d2f1af3e",
   "metadata": {
    "scrolled": true
   },
   "outputs": [
    {
     "name": "stdout",
     "output_type": "stream",
     "text": [
      "Текст:  С Новым Годом,друзья!\n",
      "\n",
      " Открытый текст в 16-м коде:  d1 20 cd ee e2 fb ec 20 c3 ee e4 ee ec 2c e4 f0 f3 e7 fc ff 21\n",
      "\n",
      "Ключ в 16й системе:  76 34 46 2b 9f 30 fa 2e cc 0 43 6f 75 92 d 2f f5 fb 2a 47 52\n",
      "\n",
      "Зашифрованный текст в шестндцатеричном представлении:  a7 14 8b c5 7d cb 16 0e 0f ee a7 81 99 be e9 df 06 1c d6 b8 73\n",
      "\n",
      "Зашифрованный текст:  §\u0014‹Е}Л\u0016\u000e\u000fо§Ѓ™ѕйЯ\u0006\u001c",
      "Цёs\n"
     ]
    }
   ],
   "source": [
    "#Решение\n",
    "message=\"С Новым Годом,друзья!\"\n",
    "criprKey,crypTxt=crypto(message)\n"
   ]
  },
  {
   "cell_type": "code",
   "execution_count": 47,
   "id": "5c7b24bb",
   "metadata": {},
   "outputs": [
    {
     "name": "stdout",
     "output_type": "stream",
     "text": [
      "Текст:  С Новым Годом,друзья!\n",
      "\n",
      "Зашифрованный текст:  Шэ\u0019\tЗ…Ђh4жV}ъy\u0005O#\n",
      "кЃд\n",
      "\n",
      "Открый текст в шестнадцатеричном представлении:  d1 20 cd ee e2 fb ec 20 c3 ee e4 ee ec 2c e4 f0 f3 e7 fc ff 21\n",
      "\n",
      "Зашифрованный текст в 16й системе:  d8 fd 19 09 c7 85 80 68 34 e6 56 7d fa 79 05 4f 23 0a ea 81 e4\n",
      "\n",
      "Ключ в 16й системе:  9 dd d4 e7 25 7e 6c 48 f7 8 b2 93 16 55 e1 bf d0 ed 16 7e c5\n"
     ]
    }
   ],
   "source": [
    "key=decrypto(message, crypTxt)"
   ]
  },
  {
   "cell_type": "code",
   "execution_count": null,
   "id": "06de2af8",
   "metadata": {},
   "outputs": [],
   "source": []
  }
 ],
 "metadata": {
  "kernelspec": {
   "display_name": "Python 3",
   "language": "python",
   "name": "python3"
  },
  "language_info": {
   "codemirror_mode": {
    "name": "ipython",
    "version": 3
   },
   "file_extension": ".py",
   "mimetype": "text/x-python",
   "name": "python",
   "nbconvert_exporter": "python",
   "pygments_lexer": "ipython3",
   "version": "3.8.8"
  }
 },
 "nbformat": 4,
 "nbformat_minor": 5
}
